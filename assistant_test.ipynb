{
 "cells": [
  {
   "cell_type": "code",
   "execution_count": 1,
   "metadata": {},
   "outputs": [],
   "source": [
    "import os\n",
    "import json\n",
    "from openai import AzureOpenAI\n",
    "    \n",
    "client = AzureOpenAI(\n",
    "    api_key=os.getenv(\"AZURE_OPENAI_API_KEY\"),  \n",
    "    api_version=\"2024-02-15-preview\",\n",
    "    azure_endpoint = os.getenv(\"AZURE_OPENAI_ENDPOINT\")\n",
    "    )"
   ]
  },
  {
   "cell_type": "code",
   "execution_count": 2,
   "metadata": {},
   "outputs": [
    {
     "name": "stdout",
     "output_type": "stream",
     "text": [
      "Assistant(id='asst_si2Szhtw1XK8mulXeE8UhEzl', created_at=1710963271, description=None, file_ids=[], instructions='You are a helpful AI assistant that provides information about a company such as earnings call transcripts, stock information such as current price, 52 week high and low price, and company information such as industry, summary.You get all your information from the fuctions available to you only. You only answer questions based on the information you have been given. You have access to a sandboxed environment for writing and testing code.If need need clarifications please ask the user to provide more information.You are given various functions that provide all the data you need to answer questions.You might have to call multiple functions to get the all needed information', metadata={}, model='gpt-35-turbo', name='Company-Insights', object='assistant', tools=[ToolCodeInterpreter(type='code_interpreter'), ToolFunction(function=FunctionDefinition(name='get_earnings_call_transcript', parameters={'type': 'object', 'properties': {'company_stock_ticker': {'type': 'string', 'description': 'The name of the company for which to look up the earnings call transcript'}}, 'required': ['company_stock_ticker']}, description='Gets the earnings call transcript for a company based on the company stock sticker. This is only use for earning calls transcripts.'), type='function'), ToolFunction(function=FunctionDefinition(name='get_stock_info', parameters={'type': 'object', 'properties': {'company_stock_ticker': {'type': 'string', 'description': 'The stock ticker of the company for which to look up stock information'}}, 'required': ['company_stock_ticker']}, description='Gets stock information for a company based on the company stock ticker such as current price, 52 week high and low price, and market cap'), type='function'), ToolFunction(function=FunctionDefinition(name='get_company_info', parameters={'type': 'object', 'properties': {'question': {'type': 'string', 'description': 'The question about the compapy such as industry, sector, strategic priorities and market cap based on the company name'}, 'company_stock_ticker': {'type': 'string', 'description': 'The stock ticker of the company for which to look up company information'}}, 'required': ['company_stock_ticker', 'question']}, description=\"Gets company information such as the company's industry, sector, and market cap based on the company name\"), type='function'), ToolFunction(function=FunctionDefinition(name='send_chat_email', parameters={'type': 'object', 'properties': {'email_address': {'type': 'string', 'description': 'The email address to which to send the chat summary'}}, 'required': ['email_address']}, description='Sends an email to a chat user with the summary of the conversation'), type='function')])\n"
     ]
    }
   ],
   "source": [
    "assistant_id = \"asst_si2Szhtw1XK8mulXeE8UhEzl\"\n",
    "\n",
    "assistant = client.beta.assistants.retrieve(assistant_id)\n",
    "print(assistant)"
   ]
  },
  {
   "cell_type": "code",
   "execution_count": 3,
   "metadata": {},
   "outputs": [],
   "source": [
    "thread = client.beta.threads.create()\n",
    "#print(thread)"
   ]
  },
  {
   "cell_type": "code",
   "execution_count": 4,
   "metadata": {},
   "outputs": [],
   "source": [
    "# Add a user question to the thread\n",
    "msg = \"what are strategic priorities for the year for JNJ\"\n",
    "\n",
    "message = client.beta.threads.messages.create(\n",
    "    thread_id=thread.id,\n",
    "    role=\"user\",\n",
    "    content=msg\n",
    ")\n",
    "\n",
    "thread_messages = client.beta.threads.messages.list(thread.id)"
   ]
  },
  {
   "cell_type": "code",
   "execution_count": 5,
   "metadata": {},
   "outputs": [],
   "source": [
    "run = client.beta.threads.runs.create(\n",
    "  thread_id=thread.id,\n",
    "  assistant_id=assistant.id,\n",
    "  #instructions=\"New instructions\" #You can optionally provide new instructions but these will override the default instructions\n",
    ")"
   ]
  },
  {
   "cell_type": "code",
   "execution_count": 10,
   "metadata": {},
   "outputs": [
    {
     "name": "stdout",
     "output_type": "stream",
     "text": [
      "requires_action\n"
     ]
    }
   ],
   "source": [
    "# Retrieve the status of the run\n",
    "run = client.beta.threads.runs.retrieve(\n",
    "  thread_id=thread.id,\n",
    "  run_id=run.id\n",
    ")\n",
    "\n",
    "status = run.status\n",
    "print(status)"
   ]
  },
  {
   "cell_type": "code",
   "execution_count": 7,
   "metadata": {},
   "outputs": [
    {
     "name": "stdout",
     "output_type": "stream",
     "text": [
      "{\n",
      "  \"question\": \"strategic priorities\",\n",
      "  \"company_stock_ticker\": \"JNJ\"\n",
      "}\n",
      "get_company_info\n",
      "Error code: 400 - {'error': {'message': '1 validation error for Request\\nbody -> tool_outputs -> 0 -> output\\n  none is not an allowed value (type=type_error.none.not_allowed)', 'type': 'invalid_request_error', 'param': None, 'code': None}}\n"
     ]
    }
   ],
   "source": [
    "from functions.company import get_company_info\n",
    "\n",
    "import time\n",
    "\n",
    "max_steps = 10 \n",
    "sleep = .5\n",
    "\n",
    "#add the available functions here   \n",
    "available_functions = {\"get_company_info\": get_company_info}\n",
    "\n",
    "try:\n",
    "    cnt = 0\n",
    "    while cnt < max_steps:\n",
    "        run = client.beta.threads.runs.retrieve(thread_id=thread.id, run_id=run.id)        \n",
    "        cnt += 1\n",
    "        if run.status == \"requires_action\":\n",
    "            tool_responses = []\n",
    "            if (\n",
    "                run.required_action.type == \"submit_tool_outputs\"\n",
    "                and run.required_action.submit_tool_outputs.tool_calls is not None\n",
    "            ):\n",
    "                tool_calls = run.required_action.submit_tool_outputs.tool_calls\n",
    "\n",
    "                for call in tool_calls:\n",
    "                    if call.type == \"function\":\n",
    "                        if call.function.name not in available_functions:\n",
    "                            raise Exception(\"Function requested by the model does not exist\")\n",
    "                        function_to_call = available_functions[call.function.name]\n",
    "                        print(call.function.arguments)\n",
    "                        print(call.function.name)\n",
    "                        tool_response = function_to_call(**json.loads(call.function.arguments))\n",
    "                        tool_responses.append({\"tool_call_id\": call.id, \"output\": tool_response})\n",
    "\n",
    "            run = client.beta.threads.runs.submit_tool_outputs(\n",
    "                thread_id=thread.id, run_id=run.id, tool_outputs=tool_responses\n",
    "            )\n",
    "\n",
    "            print(run.status)\n",
    "\n",
    "        if run.status == \"failed\":\n",
    "            print(\"Run failed.\")\n",
    "            break\n",
    "        if run.status == \"completed\":\n",
    "            break\n",
    "        time.sleep(sleep)\n",
    "\n",
    "except Exception as e:\n",
    "    print(e)\n",
    "\n"
   ]
  },
  {
   "cell_type": "code",
   "execution_count": 14,
   "metadata": {},
   "outputs": [
    {
     "name": "stdout",
     "output_type": "stream",
     "text": [
      "424\n",
      "None\n"
     ]
    }
   ],
   "source": [
    "import os\n",
    "import requests\n",
    "import logging\n",
    "\n",
    "# Create a custom logger\n",
    "logger = logging.getLogger(__name__)\n",
    "# Create a file handler\n",
    "#handler = logging.FileHandler('app.log')\n",
    "# Add the handler to the logger\n",
    "#logger.addHandler(handler)\n",
    "\n",
    "def get_company_info(company_stock_ticker: str, question: str): \n",
    "    api_key = \"0slxspiAvFd9w6xrvw1RTcAP1wnd13QH\"        \n",
    "    url = \"https://hackathon-ai-search-pf.canadaeast.inference.ml.azure.com/score\"\n",
    "    headers = {\n",
    "        'Content-Type': 'application/json',\n",
    "        'Authorization': f'Bearer {api_key}',\n",
    "        'azureml-model-deployment': 'hackathon-ai-search-pf-1'\n",
    "    }       \n",
    "    payload = {\n",
    "        'client': company_stock_ticker,\n",
    "        'question': question\n",
    "    }\n",
    "\n",
    "    logger.info(f\"Getting company information at {url}\")\n",
    "    response = requests.post(url, json=payload, headers=headers)\n",
    "\n",
    "    print(response.status_code)\n",
    "\n",
    "    if response.status_code == 200:\n",
    "        data = response.json()\n",
    "        logger.info(f\"Company info for {company_stock_ticker} found: {data}\")\n",
    "        return data\n",
    "    else:\n",
    "        logger.info(f\"Company info for {company_stock_ticker} not found\") \n",
    "        return None \n",
    "\n",
    "r = get_company_info(\"JNJ\", \"what are strategic priorities for the year for JNJ\")\n",
    "print(r) "
   ]
  },
  {
   "cell_type": "code",
   "execution_count": 8,
   "metadata": {},
   "outputs": [
    {
     "name": "stdout",
     "output_type": "stream",
     "text": [
      "[RequiredActionFunctionToolCall(id='call_4RtmOsvgApammm3fNdzAEx0g', function=Function(arguments='{\\n  \"question\": \"strategic priorities\",\\n  \"company_stock_ticker\": \"JNJ\"\\n}', name='get_company_info'), type='function')]\n"
     ]
    }
   ],
   "source": [
    "print(tool_calls)"
   ]
  },
  {
   "cell_type": "code",
   "execution_count": 9,
   "metadata": {},
   "outputs": [
    {
     "name": "stdout",
     "output_type": "stream",
     "text": [
      "{\n",
      "  \"data\": [\n",
      "    {\n",
      "      \"id\": \"msg_z4K93wpF5Av3OyDQ4dNIyccv\",\n",
      "      \"assistant_id\": null,\n",
      "      \"content\": [\n",
      "        {\n",
      "          \"text\": {\n",
      "            \"annotations\": [],\n",
      "            \"value\": \"what are strategic priorities for the year for JNJ\"\n",
      "          },\n",
      "          \"type\": \"text\"\n",
      "        }\n",
      "      ],\n",
      "      \"created_at\": 1710963616,\n",
      "      \"file_ids\": [],\n",
      "      \"metadata\": {},\n",
      "      \"object\": \"thread.message\",\n",
      "      \"role\": \"user\",\n",
      "      \"run_id\": null,\n",
      "      \"thread_id\": \"thread_H8zAAmu38zbT12syHuXMhgdT\"\n",
      "    }\n",
      "  ],\n",
      "  \"object\": \"list\",\n",
      "  \"first_id\": \"msg_z4K93wpF5Av3OyDQ4dNIyccv\",\n",
      "  \"last_id\": \"msg_z4K93wpF5Av3OyDQ4dNIyccv\",\n",
      "  \"has_more\": false\n",
      "}\n",
      "requires_action\n"
     ]
    }
   ],
   "source": [
    "messages = client.beta.threads.messages.list(\n",
    "  thread_id=thread.id\n",
    ")\n",
    "\n",
    "print(messages.model_dump_json(indent=2))\n",
    "print(run.status)"
   ]
  }
 ],
 "metadata": {
  "kernelspec": {
   "display_name": "env",
   "language": "python",
   "name": "python3"
  },
  "language_info": {
   "codemirror_mode": {
    "name": "ipython",
    "version": 3
   },
   "file_extension": ".py",
   "mimetype": "text/x-python",
   "name": "python",
   "nbconvert_exporter": "python",
   "pygments_lexer": "ipython3",
   "version": "3.12.2"
  }
 },
 "nbformat": 4,
 "nbformat_minor": 2
}

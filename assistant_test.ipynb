{
 "cells": [
  {
   "cell_type": "code",
   "execution_count": 1,
   "metadata": {},
   "outputs": [],
   "source": [
    "import os\n",
    "import json\n",
    "from openai import AzureOpenAI\n",
    "    \n",
    "client = AzureOpenAI(\n",
    "    api_key=os.getenv(\"AZURE_OPENAI_API_KEY\"),  \n",
    "    api_version=\"2024-02-15-preview\",\n",
    "    azure_endpoint = os.getenv(\"AZURE_OPENAI_ENDPOINT\")\n",
    "    )"
   ]
  },
  {
   "cell_type": "code",
   "execution_count": 2,
   "metadata": {},
   "outputs": [
    {
     "name": "stdout",
     "output_type": "stream",
     "text": [
      "Assistant(id='asst_5N02i9PqB3VVqUYSAbkm76WH', created_at=1711067256, description=None, file_ids=[], instructions='Your name is Mara. You are a helpful AI assistant that provides information about a company such as earnings call transcripts, stock information such as current price, 52 week high and low price, and company information such as industry, summary. You get all your information from the functions available to you only. You only answer questions based on the information you have been given. You have access to a sandboxed environment for writing and testing code. If need clarifications, please ask the user to provide more information. You are given various functions that provide all the data you need to answer questions. You might have to call multiple functions to get all needed information.', metadata={}, model='gpt-35-turbo', name='Company-Insights', object='assistant', tools=[ToolCodeInterpreter(type='code_interpreter'), ToolFunction(function=FunctionDefinition(name='send_summary', parameters={'type': 'object', 'properties': {'email_address': {'type': 'string', 'description': 'The email address to which to send the summary'}, 'thread_id': {'type': 'string', 'description': 'this is the thread id of the conversation to which the summary is to be sent'}}, 'required': ['email_address']}, description=\"Sends a summary of the discussion to the user's email address\"), type='function'), ToolFunction(function=FunctionDefinition(name='get_stock_info', parameters={'type': 'object', 'properties': {'company_stock_ticker': {'type': 'string', 'description': 'The stock ticker of the company for which to look up stock information'}}, 'required': ['company_stock_ticker']}, description='Gets stock and finantial information for a company based on the company stock ticker such as current price, 52 week high and low price, and market cap'), type='function'), ToolFunction(function=FunctionDefinition(name='get_company_info', parameters={'type': 'object', 'properties': {'question': {'type': 'string', 'description': 'The question about the compapy such as industry, sector, strategic priorities and market cap based on the company name'}, 'company_stock_ticker': {'type': 'string', 'description': 'The stock ticker of the company for which to look up company information'}}, 'required': ['company_stock_ticker', 'question']}, description=\"Gets company information such as the company's industry, sector, and market cap based on the company name\"), type='function'), ToolFunction(function=FunctionDefinition(name='get_news', parameters={'type': 'object', 'properties': {'company_stock_ticker': {'type': 'string', 'description': 'The stock ticker of the company for which to look up company news'}}, 'required': ['company_stock_ticker']}, description='Gets the latest news for a company based on the company stock ticker'), type='function')])\n"
     ]
    }
   ],
   "source": [
    "assistant_id = \"asst_5N02i9PqB3VVqUYSAbkm76WH\"\n",
    "\n",
    "assistant = client.beta.assistants.retrieve(assistant_id)\n",
    "print(assistant)"
   ]
  },
  {
   "cell_type": "code",
   "execution_count": 3,
   "metadata": {},
   "outputs": [
    {
     "name": "stdout",
     "output_type": "stream",
     "text": [
      "thread_V7p5t3ce9JDe48iXQpHs5y44\n"
     ]
    }
   ],
   "source": [
    "thread = client.beta.threads.create()\n",
    "print(thread.id)"
   ]
  },
  {
   "cell_type": "code",
   "execution_count": 14,
   "metadata": {},
   "outputs": [],
   "source": [
    "# Add a user question to the thread\n",
    "msg = \"any news for JNJ\"\n",
    "\n",
    "msg = \"email me a summary of this conversation to ddiaz@live.com thread_id: thread_V7p5t3ce9JDe48iXQpHs5y44\"\n",
    "\n",
    "message = client.beta.threads.messages.create(\n",
    "    thread_id=thread.id,\n",
    "    role=\"user\",\n",
    "    content=msg\n",
    ")\n",
    "\n",
    "thread_messages = client.beta.threads.messages.list(thread.id)"
   ]
  },
  {
   "cell_type": "code",
   "execution_count": 15,
   "metadata": {},
   "outputs": [],
   "source": [
    "run = client.beta.threads.runs.create(\n",
    "  thread_id=thread.id,\n",
    "  assistant_id=assistant.id,\n",
    "  #instructions=\"New instructions\" #You can optionally provide new instructions but these will override the default instructions\n",
    ")"
   ]
  },
  {
   "cell_type": "code",
   "execution_count": 16,
   "metadata": {},
   "outputs": [
    {
     "name": "stdout",
     "output_type": "stream",
     "text": [
      "requires_action\n"
     ]
    }
   ],
   "source": [
    "# Retrieve the status of the run\n",
    "run = client.beta.threads.runs.retrieve(\n",
    "  thread_id=thread.id,\n",
    "  run_id=run.id\n",
    ")\n",
    "\n",
    "status = run.status\n",
    "print(status)"
   ]
  },
  {
   "cell_type": "code",
   "execution_count": 7,
   "metadata": {},
   "outputs": [],
   "source": [
    "from functions.email import send_summary\n",
    "\n",
    "#send_summary(\"ddiaz@live.com\", thread.id)"
   ]
  },
  {
   "cell_type": "code",
   "execution_count": 17,
   "metadata": {},
   "outputs": [
    {
     "name": "stdout",
     "output_type": "stream",
     "text": [
      "{\n",
      "  \"email_address\": \"ddiaz@live.com\",\n",
      "  \"thread_id\": \"thread_V7p5t3ce9JDe48iXQpHs5y44\"\n",
      "}\n",
      "send_summary\n",
      "Number of messages: 5\n",
      "B4: any news for JNJ\n",
      "ATR: any news for JNJ\n",
      "B4: Here are some recent news articles about Johnson & Johnson (JNJ):\n",
      "\n",
      "1. \"Johnson & Johnson partners with NVIDIA to accelerate AI adoption in surgery\" - Johnson & Johnson has partnered with chip manufacturer NVIDIA to leverage artificial intelligence in surgical applications. The collaboration aims to enable real-time analysis and global availability of AI algorithms for surgical decision-making. [Read more](source1)\n",
      "\n",
      "2. \"Johnson & Johnson embraces AI for healthcare innovation\" - Johnson & Johnson recognizes the potential of AI to revolutionize healthcare and is committed to implementing AI technology to drive innovation in the sector. The company is harnessing advanced technologies such as AI, machine learning, data science, and digital health as part of its digital transformation strategy. [Read more](source2)\n",
      "\n",
      "3. \"Johnson & Johnson invests in AI-powered drug discovery\" - Johnson & Johnson is making significant investments in AI and data science to enhance its drug discovery efforts. The company believes AI has the potential to accelerate and improve the efficiency of the drug development process. [Read more](source3)\n",
      "\n",
      "4. \"Johnson & Johnson improves tracking of medical devices with AI\" - Johnson & Johnson is embedding Unique Device Identifiers (UDIs) into the barcodes of its medical products to improve tracking and traceability. This helps reduce errors in the healthcare system. [Read more](source4)\n",
      "\n",
      "5. \"Johnson & Johnson's Janssen partners with AI startup for blood cancer research\" - Johnson & Johnson's pharmaceutical company, Janssen, has partnered with AI startup Intelligent OMICS (Intellomx) to discover drug targets for the treatment of blood cancer. The collaboration utilizes Intellomx's AI platform to drive advancements in oncology research. [Read more](source5)\n",
      "\n",
      "Please note that the provided news articles are for informational purposes only and do not constitute financial advice.\n",
      "ATR: Here are some recent news articles about Johnson & Johnson (JNJ):\n",
      "\n",
      "1. \"Johnson & Johnson partners with NVIDIA to accelerate AI adoption in surgery\" - Johnson & Johnson has partnered with chip manufacturer NVIDIA to leverage artificial intelligence in surgical applications. The collaboration aims to enable real-time analysis and global availability of AI algorithms for surgical decision-making. [Read more](source1)\n",
      "\n",
      "2. \"Johnson & Johnson embraces AI for healthcare innovation\" - Johnson & Johnson recognizes the potential of AI to revolutionize healthcare and is committed to implementing AI technology to drive innovation in the sector. The company is harnessing advanced technologies such as AI, machine learning, data science, and digital health as part of its digital transformation strategy. [Read more](source2)\n",
      "\n",
      "3. \"Johnson & Johnson invests in AI-powered drug discovery\" - Johnson & Johnson is making significant investments in AI and data science to enhance its drug discovery efforts. The company believes AI has the potential to accelerate and improve the efficiency of the drug development process. [Read more](source3)\n",
      "\n",
      "4. \"Johnson & Johnson improves tracking of medical devices with AI\" - Johnson & Johnson is embedding Unique Device Identifiers (UDIs) into the barcodes of its medical products to improve tracking and traceability. This helps reduce errors in the healthcare system. [Read more](source4)\n",
      "\n",
      "5. \"Johnson & Johnson's Janssen partners with AI startup for blood cancer research\" - Johnson & Johnson's pharmaceutical company, Janssen, has partnered with AI startup Intelligent OMICS (Intellomx) to discover drug targets for the treatment of blood cancer. The collaboration utilizes Intellomx's AI platform to drive advancements in oncology research. [Read more](source5)\n",
      "\n",
      "Please note that the provided news articles are for informational purposes only and do not constitute financial advice.\n",
      "B4: any news for JNJ\n",
      "ATR: any news for JNJ\n",
      "B4: Johnson & Johnson (J&J) is driving AI digital transformation in the healthcare industry. They have partnered with companies like NVIDIA to leverage AI in surgical applications, enabling real-time insights and improving patient outcomes. J&J is also investing in AI and data science for drug discovery, aiming to accelerate the development of innovative treatments. In addition, J&J is expanding its surgical open ecosystem and utilizing AI to drive innovation. They are combining various technologies, including AI, ML, data science, digital health, 3D printing, and real-world evidence, to advance healthcare. J&J's commitment to open innovation and education is evident, as they aim to provide global access to AI algorithms and promote collaboration in the operating room. This dedication to AI digital transformation positions J&J as a leader in the healthcare industry.\n",
      "ATR: Johnson & Johnson (J&J) is driving AI digital transformation in the healthcare industry. They have partnered with companies like NVIDIA to leverage AI in surgical applications, enabling real-time insights and improving patient outcomes. J&J is also investing in AI and data science for drug discovery, aiming to accelerate the development of innovative treatments. In addition, J&J is expanding its surgical open ecosystem and utilizing AI to drive innovation. They are combining various technologies, including AI, ML, data science, digital health, 3D printing, and real-world evidence, to advance healthcare. J&J's commitment to open innovation and education is evident, as they aim to provide global access to AI algorithms and promote collaboration in the operating room. This dedication to AI digital transformation positions J&J as a leader in the healthcare industry.\n",
      "B4: email me a summary of this conversation to ddiaz@live.com thread_id: thread_V7p5t3ce9JDe48iXQpHs5y44\n",
      "ATR: email me a summary of this conversation to ddiaz@live.com \n",
      "{'senderAddress': 'DoNotReply@c35b7616-5093-4ada-bfa8-51982fe2e326.azurecomm.net', 'recipients': {'to': [{'address': 'ddiaz@live.com'}]}, 'content': {'subject': \"What's Happening - Conversation Summary\", 'plainText': 'any news for JNJ\\n\\n\\nHere are some recent news articles about Johnson & Johnson (JNJ):\\n\\n1. \"Johnson & Johnson partners with NVIDIA to accelerate AI adoption in surgery\" - Johnson & Johnson has partnered with chip manufacturer NVIDIA to leverage artificial intelligence in surgical applications. The collaboration aims to enable real-time analysis and global availability of AI algorithms for surgical decision-making. [Read more](source1)\\n\\n2. \"Johnson & Johnson embraces AI for healthcare innovation\" - Johnson & Johnson recognizes the potential of AI to revolutionize healthcare and is committed to implementing AI technology to drive innovation in the sector. The company is harnessing advanced technologies such as AI, machine learning, data science, and digital health as part of its digital transformation strategy. [Read more](source2)\\n\\n3. \"Johnson & Johnson invests in AI-powered drug discovery\" - Johnson & Johnson is making significant investments in AI and data science to enhance its drug discovery efforts. The company believes AI has the potential to accelerate and improve the efficiency of the drug development process. [Read more](source3)\\n\\n4. \"Johnson & Johnson improves tracking of medical devices with AI\" - Johnson & Johnson is embedding Unique Device Identifiers (UDIs) into the barcodes of its medical products to improve tracking and traceability. This helps reduce errors in the healthcare system. [Read more](source4)\\n\\n5. \"Johnson & Johnson\\'s Janssen partners with AI startup for blood cancer research\" - Johnson & Johnson\\'s pharmaceutical company, Janssen, has partnered with AI startup Intelligent OMICS (Intellomx) to discover drug targets for the treatment of blood cancer. The collaboration utilizes Intellomx\\'s AI platform to drive advancements in oncology research. [Read more](source5)\\n\\nPlease note that the provided news articles are for informational purposes only and do not constitute financial advice.\\n\\n\\nany news for JNJ\\n\\n\\nJohnson & Johnson (J&J) is driving AI digital transformation in the healthcare industry. They have partnered with companies like NVIDIA to leverage AI in surgical applications, enabling real-time insights and improving patient outcomes. J&J is also investing in AI and data science for drug discovery, aiming to accelerate the development of innovative treatments. In addition, J&J is expanding its surgical open ecosystem and utilizing AI to drive innovation. They are combining various technologies, including AI, ML, data science, digital health, 3D printing, and real-world evidence, to advance healthcare. J&J\\'s commitment to open innovation and education is evident, as they aim to provide global access to AI algorithms and promote collaboration in the operating room. This dedication to AI digital transformation positions J&J as a leader in the healthcare industry.\\n\\n\\nemail me a summary of this conversation to ddiaz@live.com \\n\\n\\n'}}\n",
      "queued\n"
     ]
    }
   ],
   "source": [
    "from functions.company import get_company_info\n",
    "from functions.news import get_news\n",
    "from functions.stock import get_stock_info\n",
    "from functions.email import send_summary\n",
    "\n",
    "import time\n",
    "\n",
    "max_steps = 10 \n",
    "sleep = .5\n",
    "\n",
    "#add the available functions here   \n",
    "available_functions = {\"get_company_info\": get_company_info, \"get_news\": get_news, \"get_stock_info\": get_stock_info, \"send_summary\": send_summary}\n",
    "\n",
    "\n",
    "try:\n",
    "    cnt = 0\n",
    "    while cnt < max_steps:\n",
    "        run = client.beta.threads.runs.retrieve(thread_id=thread.id, run_id=run.id)        \n",
    "        cnt += 1\n",
    "        if run.status == \"requires_action\":\n",
    "            tool_responses = []\n",
    "            if (\n",
    "                run.required_action.type == \"submit_tool_outputs\"\n",
    "                and run.required_action.submit_tool_outputs.tool_calls is not None\n",
    "            ):\n",
    "                tool_calls = run.required_action.submit_tool_outputs.tool_calls\n",
    "\n",
    "                for call in tool_calls:\n",
    "                    if call.type == \"function\":\n",
    "                        if call.function.name not in available_functions:\n",
    "                            raise Exception(\"Function requested by the model does not exist\")\n",
    "                        function_to_call = available_functions[call.function.name]\n",
    "                        print(call.function.arguments)\n",
    "                        print(call.function.name)\n",
    "                        tool_response = function_to_call(**json.loads(call.function.arguments))\n",
    "                        tool_responses.append({\"tool_call_id\": call.id, \"output\": tool_response})\n",
    "\n",
    "            run = client.beta.threads.runs.submit_tool_outputs(\n",
    "                thread_id=thread.id, run_id=run.id, tool_outputs=tool_responses\n",
    "            )\n",
    "\n",
    "            print(run.status)\n",
    "\n",
    "        if run.status == \"failed\":\n",
    "            print(\"Run failed.\")\n",
    "            break\n",
    "        if run.status == \"completed\":\n",
    "            break\n",
    "        time.sleep(sleep)\n",
    "\n",
    "except Exception as e:\n",
    "    print(e)\n",
    "\n"
   ]
  },
  {
   "cell_type": "code",
   "execution_count": 9,
   "metadata": {},
   "outputs": [
    {
     "name": "stdout",
     "output_type": "stream",
     "text": [
      "{\n",
      "  \"data\": [\n",
      "    {\n",
      "      \"id\": \"msg_yqKb9C90qwHO33u46lhv3mhO\",\n",
      "      \"assistant_id\": \"asst_5N02i9PqB3VVqUYSAbkm76WH\",\n",
      "      \"content\": [\n",
      "        {\n",
      "          \"text\": {\n",
      "            \"annotations\": [],\n",
      "            \"value\": \"Here are some recent news articles about Johnson & Johnson (JNJ):\\n\\n1. \\\"Johnson & Johnson partners with NVIDIA to accelerate AI adoption in surgery\\\" - Johnson & Johnson has partnered with chip manufacturer NVIDIA to leverage artificial intelligence in surgical applications. The collaboration aims to enable real-time analysis and global availability of AI algorithms for surgical decision-making. [Read more](source1)\\n\\n2. \\\"Johnson & Johnson embraces AI for healthcare innovation\\\" - Johnson & Johnson recognizes the potential of AI to revolutionize healthcare and is committed to implementing AI technology to drive innovation in the sector. The company is harnessing advanced technologies such as AI, machine learning, data science, and digital health as part of its digital transformation strategy. [Read more](source2)\\n\\n3. \\\"Johnson & Johnson invests in AI-powered drug discovery\\\" - Johnson & Johnson is making significant investments in AI and data science to enhance its drug discovery efforts. The company believes AI has the potential to accelerate and improve the efficiency of the drug development process. [Read more](source3)\\n\\n4. \\\"Johnson & Johnson improves tracking of medical devices with AI\\\" - Johnson & Johnson is embedding Unique Device Identifiers (UDIs) into the barcodes of its medical products to improve tracking and traceability. This helps reduce errors in the healthcare system. [Read more](source4)\\n\\n5. \\\"Johnson & Johnson's Janssen partners with AI startup for blood cancer research\\\" - Johnson & Johnson's pharmaceutical company, Janssen, has partnered with AI startup Intelligent OMICS (Intellomx) to discover drug targets for the treatment of blood cancer. The collaboration utilizes Intellomx's AI platform to drive advancements in oncology research. [Read more](source5)\\n\\nPlease note that the provided news articles are for informational purposes only and do not constitute financial advice.\"\n",
      "          },\n",
      "          \"type\": \"text\"\n",
      "        }\n",
      "      ],\n",
      "      \"created_at\": 1711087641,\n",
      "      \"file_ids\": [],\n",
      "      \"metadata\": {},\n",
      "      \"object\": \"thread.message\",\n",
      "      \"role\": \"assistant\",\n",
      "      \"run_id\": \"run_ryzdunHdiI8z9DuaiPKG37uq\",\n",
      "      \"thread_id\": \"thread_V7p5t3ce9JDe48iXQpHs5y44\"\n",
      "    },\n",
      "    {\n",
      "      \"id\": \"msg_zTJxFx67Gaau0KuxEl1dM2zT\",\n",
      "      \"assistant_id\": null,\n",
      "      \"content\": [\n",
      "        {\n",
      "          \"text\": {\n",
      "            \"annotations\": [],\n",
      "            \"value\": \"any news for JNJ\"\n",
      "          },\n",
      "          \"type\": \"text\"\n",
      "        }\n",
      "      ],\n",
      "      \"created_at\": 1711087628,\n",
      "      \"file_ids\": [],\n",
      "      \"metadata\": {},\n",
      "      \"object\": \"thread.message\",\n",
      "      \"role\": \"user\",\n",
      "      \"run_id\": null,\n",
      "      \"thread_id\": \"thread_V7p5t3ce9JDe48iXQpHs5y44\"\n",
      "    }\n",
      "  ],\n",
      "  \"object\": \"list\",\n",
      "  \"first_id\": \"msg_yqKb9C90qwHO33u46lhv3mhO\",\n",
      "  \"last_id\": \"msg_zTJxFx67Gaau0KuxEl1dM2zT\",\n",
      "  \"has_more\": false\n",
      "}\n",
      "completed\n"
     ]
    }
   ],
   "source": [
    "messages = client.beta.threads.messages.list(\n",
    "  thread_id=thread.id\n",
    ")\n",
    "\n",
    "print(messages.model_dump_json(indent=2))\n",
    "print(run.status)"
   ]
  }
 ],
 "metadata": {
  "kernelspec": {
   "display_name": "env",
   "language": "python",
   "name": "python3"
  },
  "language_info": {
   "codemirror_mode": {
    "name": "ipython",
    "version": 3
   },
   "file_extension": ".py",
   "mimetype": "text/x-python",
   "name": "python",
   "nbconvert_exporter": "python",
   "pygments_lexer": "ipython3",
   "version": "3.12.2"
  }
 },
 "nbformat": 4,
 "nbformat_minor": 2
}

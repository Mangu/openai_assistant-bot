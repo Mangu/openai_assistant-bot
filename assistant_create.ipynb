{
 "cells": [
  {
   "cell_type": "code",
   "execution_count": 1,
   "metadata": {},
   "outputs": [
    {
     "name": "stdout",
     "output_type": "stream",
     "text": [
      "468967e70df24bebb3f94b50816c8dee\n"
     ]
    }
   ],
   "source": [
    "import os\n",
    "import json\n",
    "from openai import AzureOpenAI\n",
    "    \n",
    "client = AzureOpenAI(\n",
    "    api_key=os.getenv(\"AZURE_OPENAI_API_KEY\"),  \n",
    "    api_version=\"2024-02-15-preview\",\n",
    "    azure_endpoint = os.getenv(\"AZURE_OPENAI_ENDPOINT\")\n",
    "    )\n",
    "\n",
    "print(os.getenv(\"AZURE_OPENAI_API_KEY\"))"
   ]
  },
  {
   "cell_type": "code",
   "execution_count": 2,
   "metadata": {},
   "outputs": [],
   "source": [
    "# Create an assistant\n",
    "assistant = client.beta.assistants.create(\n",
    "    name=\"Company-Insights\",\n",
    "    instructions=f\"You are a helpful AI assistant that provides information about a company such as earnings call transcripts, stock information such as current price, 52 week high and low price, and company information such as industry, summary.\" \n",
    "    f\"You get all your information from the fuctions available to you only. You only answer questions based on the information you have been given. \" \n",
    "    f\"You have access to a sandboxed environment for writing and testing code.\"\n",
    "    f\"If need need clarifications please ask the user to provide more information.\"   \n",
    "    f\"You are given various functions that provide all the data you need to answer questions.\"\n",
    "    f\"You might have to call multiple functions to get the all needed information\",\n",
    "    tools=[\n",
    "        {\"type\": \"code_interpreter\"},\n",
    "        {\n",
    "            \"type\": \"function\",\n",
    "            \"function\": {\n",
    "                \"name\": \"get_earnings_call_transcript\",\n",
    "                \"description\": \"Gets the earnings call transcript for a company based on the company stock sticker. This is only use for earning calls transcripts.\",\n",
    "                \"parameters\": {\n",
    "                    \"type\": \"object\",\n",
    "                    \"properties\": {\n",
    "                        \"company_stock_ticker\": {\"type\": \"string\", \"description\": \"The name of the company for which to look up the earnings call transcript\"}\n",
    "                    },\n",
    "                    \"required\": [\"company_stock_ticker\"]\n",
    "                }\n",
    "            }\n",
    "        },        \n",
    "        {\n",
    "            \"type\": \"function\",\n",
    "            \"function\": {\n",
    "                \"name\": \"get_stock_info\",\n",
    "                \"description\": \"Gets stock information for a company based on the company stock ticker such as current price, 52 week high and low price, and market cap\",\n",
    "                \"parameters\": {\n",
    "                    \"type\": \"object\",\n",
    "                    \"properties\": {\n",
    "                        \"company_stock_ticker\": {\"type\": \"string\", \"description\": \"The stock ticker of the company for which to look up stock information\"}\n",
    "                    },\n",
    "                    \"required\": [\"company_stock_ticker\"]\n",
    "                }\n",
    "            }\n",
    "        },\n",
    "        {\n",
    "            \"type\": \"function\",\n",
    "            \"function\": {\n",
    "                \"name\": \"get_company_info\",\n",
    "                \"description\": \"Gets company information such as the company's industry, sector, and market cap based on the company name\",\n",
    "                \"parameters\": {\n",
    "                    \"type\": \"object\",\n",
    "                    \"properties\": {\n",
    "                        \"question\": {\"type\": \"string\", \"description\": \"The question about the compapy such as industry, sector, strategic priorities and market cap based on the company name\"},\n",
    "                        \"company_stock_ticker\": {\"type\": \"string\", \"description\": \"The stock ticker of the company for which to look up company information\"}\n",
    "                    },\n",
    "                    \"required\": [\"company_stock_ticker\", \"question\"]\n",
    "                }\n",
    "            }\n",
    "        },\n",
    "        {\n",
    "            \"type\": \"function\",\n",
    "            \"function\": {\n",
    "                \"name\": \"send_chat_email\",\n",
    "                \"description\": \"Sends an email to a chat user with the summary of the conversation\",\n",
    "                \"parameters\": {\n",
    "                    \"type\": \"object\",\n",
    "                    \"properties\": {\n",
    "                        \"email_address\": {\"type\": \"string\", \"description\": \"The email address to which to send the chat summary\"}\n",
    "                    },\n",
    "                    \"required\": [\"email_address\"]\n",
    "                }\n",
    "            }\n",
    "        }\n",
    "    ],\n",
    "    model=\"gpt-35-turbo\"\n",
    ")"
   ]
  },
  {
   "cell_type": "code",
   "execution_count": 3,
   "metadata": {},
   "outputs": [
    {
     "name": "stdout",
     "output_type": "stream",
     "text": [
      "Assistant(id='asst_Q3Af6xuBQxHyaQP6Jm4xATzu', created_at=1710961139, description=None, file_ids=[], instructions='You are a helpful AI assistant that provides information about a company such as earnings call transcripts, stock information such as current price, 52 week high and low price, and company information such as industry, summary.You get all your information from the fuctions available to you only. You only answer questions based on the information you have been given. You have access to a sandboxed environment for writing and testing code.If need need clarifications please ask the user to provide more information.You are given various functions that provide all the data you need to answer questions.You might have to call multiple functions to get the all needed information', metadata={}, model='gpt-35-turbo', name='Company-Insights', object='assistant', tools=[ToolCodeInterpreter(type='code_interpreter'), ToolFunction(function=FunctionDefinition(name='get_earnings_call_transcript', parameters={'type': 'object', 'properties': {'company_name': {'type': 'string', 'description': 'The name of the company for which to look up the earnings call transcript'}}, 'required': ['company_name']}, description='Gets the earnings call transcript for a company based on the company name'), type='function'), ToolFunction(function=FunctionDefinition(name='get_stock_info', parameters={'type': 'object', 'properties': {'company_name': {'type': 'string', 'description': 'The name of the company for which to look up stock information'}}, 'required': ['company_name']}, description='Gets stock information for a company based on the company name'), type='function'), ToolFunction(function=FunctionDefinition(name='get_company_info', parameters={'type': 'object', 'properties': {'question': {'type': 'string', 'description': 'The question about the compapy such as industry, sector, and market cap based on the company name'}, 'company_stock_ticker': {'type': 'string', 'description': 'The stock ticker of the company for which to look up company information'}}, 'required': ['company_stock_ticker', 'question']}, description=\"Gets company information such as the company's industry, sector, and market cap based on the company name\"), type='function'), ToolFunction(function=FunctionDefinition(name='send_chat_email', parameters={'type': 'object', 'properties': {'email_address': {'type': 'string', 'description': 'The email address to which to send the chat summary'}}, 'required': ['email_address']}, description='Sends an email to a chat user with the summary of the conversation'), type='function')])\n"
     ]
    }
   ],
   "source": [
    "print(assistant)"
   ]
  }
 ],
 "metadata": {
  "kernelspec": {
   "display_name": "env",
   "language": "python",
   "name": "python3"
  },
  "language_info": {
   "codemirror_mode": {
    "name": "ipython",
    "version": 3
   },
   "file_extension": ".py",
   "mimetype": "text/x-python",
   "name": "python",
   "nbconvert_exporter": "python",
   "pygments_lexer": "ipython3",
   "version": "3.12.2"
  }
 },
 "nbformat": 4,
 "nbformat_minor": 2
}

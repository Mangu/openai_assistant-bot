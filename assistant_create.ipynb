{
 "cells": [
  {
   "cell_type": "code",
   "execution_count": null,
   "metadata": {},
   "outputs": [],
   "source": [
    "import os\n",
    "import json\n",
    "from openai import AzureOpenAI\n",
    "    \n",
    "client = AzureOpenAI(\n",
    "    api_key=os.getenv(\"AZURE_OPENAI_API_KEY\"),  \n",
    "    api_version=\"2024-02-15-preview\",\n",
    "    azure_endpoint = os.getenv(\"AZURE_OPENAI_ENDPOINT\")\n",
    "    )"
   ]
  },
  {
   "cell_type": "code",
   "execution_count": null,
   "metadata": {},
   "outputs": [],
   "source": [
    "# Create an assistant\n",
    "assistant = client.beta.assistants.create(\n",
    "    name=\"Incident-Insights\",\n",
    "    instructions=f\"You are a helpful AI assistant that provides information about a company such as earnings call transcripts, stock information such as current price, 52 week high and low price, and company information such as industry, summary.\" \n",
    "    f\"You get all your information from the fuctions available to you only. You only answer questions based on the information you have been given. \" \n",
    "    f\"You have access to a sandboxed environment for writing and testing code.\"\n",
    "    f\"If need need clarifications please ask the user to provide more information.\"   \n",
    "    f\"You are given various functions that provide all the data you need to answer questions.\"\n",
    "    f\"You might have to call multiple functions to get the all needed information\",\n",
    "    tools=[\n",
    "        {\"type\": \"code_interpreter\"},\n",
    "        {\n",
    "            \"type\": \"function\",\n",
    "            \"function\": {\n",
    "                \"name\": \"get_earnings_call_transcript\",\n",
    "                \"description\": \"Gets the earnings call transcript for a company based on the company name\",\n",
    "                \"parameters\": {\n",
    "                    \"type\": \"object\",\n",
    "                    \"properties\": {\n",
    "                        \"company_name\": {\"type\": \"string\", \"description\": \"The name of the company for which to look up the earnings call transcript\"}\n",
    "                    },\n",
    "                    \"required\": [\"company_name\"]\n",
    "                }\n",
    "            }\n",
    "        },        \n",
    "        {\n",
    "            \"type\": \"function\",\n",
    "            \"function\": {\n",
    "                \"name\": \"get_stock_info\",\n",
    "                \"description\": \"Gets stock information for a company based on the company name\",\n",
    "                \"parameters\": {\n",
    "                    \"type\": \"object\",\n",
    "                    \"properties\": {\n",
    "                        \"company_name\": {\"type\": \"string\", \"description\": \"The name of the company for which to look up stock information\"}\n",
    "                    },\n",
    "                    \"required\": [\"company_name\"]\n",
    "                }\n",
    "            }\n",
    "        },\n",
    "        {\n",
    "            \"type\": \"function\",\n",
    "            \"function\": {\n",
    "                \"name\": \"get_company_info\",\n",
    "                \"description\": \"Gets company information such as the company's industry, sector, and market cap based on the company name\",\n",
    "                \"parameters\": {\n",
    "                    \"type\": \"object\",\n",
    "                    \"properties\": {\n",
    "                        \"company_name\": {\"type\": \"string\", \"description\": \"The name of the company for which to look up company information\"}\n",
    "                    },\n",
    "                    \"required\": [\"company_name\"]\n",
    "                }\n",
    "            }\n",
    "        },\n",
    "        {\n",
    "            \"type\": \"function\",\n",
    "            \"function\": {\n",
    "                \"name\": \"send_chat_email\",\n",
    "                \"description\": \"Sends an email to a chat user with the summary of the conversation\",\n",
    "                \"parameters\": {\n",
    "                    \"type\": \"object\",\n",
    "                    \"properties\": {\n",
    "                        \"email_address\": {\"type\": \"string\", \"description\": \"The email address to which to send the chat summary\"}\n",
    "                    },\n",
    "                    \"required\": [\"email_address\"]\n",
    "                }\n",
    "            }\n",
    "        }\n",
    "    ],\n",
    "    model=\"gpt-35-turbo\"\n",
    ")"
   ]
  },
  {
   "cell_type": "code",
   "execution_count": null,
   "metadata": {},
   "outputs": [],
   "source": [
    "print(assistant)"
   ]
  }
 ],
 "metadata": {
  "kernelspec": {
   "display_name": "env",
   "language": "python",
   "name": "python3"
  },
  "language_info": {
   "codemirror_mode": {
    "name": "ipython",
    "version": 3
   },
   "file_extension": ".py",
   "mimetype": "text/x-python",
   "name": "python",
   "nbconvert_exporter": "python",
   "pygments_lexer": "ipython3",
   "version": "3.12.2"
  }
 },
 "nbformat": 4,
 "nbformat_minor": 2
}
